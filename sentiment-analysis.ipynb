{
 "cells": [
  {
   "cell_type": "markdown",
   "metadata": {},
   "source": [
    "# Sentiment Analysis on Social Media Comments\n",
    "\n",
    "## Introduction\n",
    "\n",
    "This notebook details the steps taken to perform sentiment analysis on comments from social media platforms using Python. The goal is to identify trends and patterns in sentiment across different content and user interactions.\n",
    "\n",
    "\n",
    "In addition to the original sentiment analysis using VADER, we will explore a binary classification approach using logistic regression to classify sentiment as positive or negative.\n",
    "\n",
    "## Setup Environment\n",
    "\n",
    "Ensure Python and the necessary libraries are installed. We will be using the following libraries:\n",
    "- `pandas` for data manipulation\n",
    "- `matplotlib` and `seaborn` for visualization\n",
    "- `VADER` from `nltk` for sentiment analysis\n",
    "- `scikit-learn` for building the predictive model."
   ]
  },
  {
   "cell_type": "code",
   "execution_count": 12,
   "metadata": {},
   "outputs": [
    {
     "name": "stdout",
     "output_type": "stream",
     "text": [
      "Requirement already satisfied: pandas in /home/estifanos/.asdf/installs/python/3.10.13/lib/python3.10/site-packages (2.2.2)\n",
      "Requirement already satisfied: nltk in /home/estifanos/.asdf/installs/python/3.10.13/lib/python3.10/site-packages (3.8.2)\n",
      "Requirement already satisfied: matplotlib in /home/estifanos/.asdf/installs/python/3.10.13/lib/python3.10/site-packages (3.9.2)\n",
      "Requirement already satisfied: seaborn in /home/estifanos/.asdf/installs/python/3.10.13/lib/python3.10/site-packages (0.13.2)\n",
      "Requirement already satisfied: scikit-learn in /home/estifanos/.asdf/installs/python/3.10.13/lib/python3.10/site-packages (1.5.1)\n",
      "Requirement already satisfied: wordcloud in /home/estifanos/.asdf/installs/python/3.10.13/lib/python3.10/site-packages (1.9.3)\n",
      "Requirement already satisfied: joblib in /home/estifanos/.asdf/installs/python/3.10.13/lib/python3.10/site-packages (1.4.2)\n",
      "Requirement already satisfied: ipywidgets in /home/estifanos/.asdf/installs/python/3.10.13/lib/python3.10/site-packages (8.1.3)\n",
      "Requirement already satisfied: numpy>=1.22.4 in /home/estifanos/.asdf/installs/python/3.10.13/lib/python3.10/site-packages (from pandas) (2.0.1)\n",
      "Requirement already satisfied: pytz>=2020.1 in /home/estifanos/.asdf/installs/python/3.10.13/lib/python3.10/site-packages (from pandas) (2024.1)\n",
      "Requirement already satisfied: python-dateutil>=2.8.2 in /home/estifanos/.local/lib/python3.10/site-packages (from pandas) (2.9.0.post0)\n",
      "Requirement already satisfied: tzdata>=2022.7 in /home/estifanos/.asdf/installs/python/3.10.13/lib/python3.10/site-packages (from pandas) (2024.1)\n",
      "Requirement already satisfied: tqdm in /home/estifanos/.asdf/installs/python/3.10.13/lib/python3.10/site-packages (from nltk) (4.66.5)\n",
      "Requirement already satisfied: click in /home/estifanos/.asdf/installs/python/3.10.13/lib/python3.10/site-packages (from nltk) (8.1.7)\n",
      "Requirement already satisfied: regex>=2021.8.3 in /home/estifanos/.asdf/installs/python/3.10.13/lib/python3.10/site-packages (from nltk) (2024.7.24)\n",
      "Requirement already satisfied: pillow>=8 in /home/estifanos/.asdf/installs/python/3.10.13/lib/python3.10/site-packages (from matplotlib) (10.4.0)\n",
      "Requirement already satisfied: cycler>=0.10 in /home/estifanos/.asdf/installs/python/3.10.13/lib/python3.10/site-packages (from matplotlib) (0.12.1)\n",
      "Requirement already satisfied: contourpy>=1.0.1 in /home/estifanos/.asdf/installs/python/3.10.13/lib/python3.10/site-packages (from matplotlib) (1.2.1)\n",
      "Requirement already satisfied: packaging>=20.0 in /home/estifanos/.local/lib/python3.10/site-packages (from matplotlib) (24.1)\n",
      "Requirement already satisfied: pyparsing>=2.3.1 in /home/estifanos/.asdf/installs/python/3.10.13/lib/python3.10/site-packages (from matplotlib) (3.1.2)\n",
      "Requirement already satisfied: fonttools>=4.22.0 in /home/estifanos/.asdf/installs/python/3.10.13/lib/python3.10/site-packages (from matplotlib) (4.53.1)\n",
      "Requirement already satisfied: kiwisolver>=1.3.1 in /home/estifanos/.asdf/installs/python/3.10.13/lib/python3.10/site-packages (from matplotlib) (1.4.5)\n",
      "Requirement already satisfied: threadpoolctl>=3.1.0 in /home/estifanos/.asdf/installs/python/3.10.13/lib/python3.10/site-packages (from scikit-learn) (3.5.0)\n",
      "Requirement already satisfied: scipy>=1.6.0 in /home/estifanos/.asdf/installs/python/3.10.13/lib/python3.10/site-packages (from scikit-learn) (1.14.0)\n",
      "Requirement already satisfied: widgetsnbextension~=4.0.11 in /home/estifanos/.asdf/installs/python/3.10.13/lib/python3.10/site-packages (from ipywidgets) (4.0.11)\n",
      "Requirement already satisfied: comm>=0.1.3 in /home/estifanos/.local/lib/python3.10/site-packages (from ipywidgets) (0.2.2)\n",
      "Requirement already satisfied: traitlets>=4.3.1 in /home/estifanos/.local/lib/python3.10/site-packages (from ipywidgets) (5.14.3)\n",
      "Requirement already satisfied: ipython>=6.1.0 in /home/estifanos/.local/lib/python3.10/site-packages (from ipywidgets) (8.26.0)\n",
      "Requirement already satisfied: jupyterlab-widgets~=3.0.11 in /home/estifanos/.asdf/installs/python/3.10.13/lib/python3.10/site-packages (from ipywidgets) (3.0.11)\n",
      "Requirement already satisfied: prompt-toolkit<3.1.0,>=3.0.41 in /home/estifanos/.local/lib/python3.10/site-packages (from ipython>=6.1.0->ipywidgets) (3.0.47)\n",
      "Requirement already satisfied: matplotlib-inline in /home/estifanos/.local/lib/python3.10/site-packages (from ipython>=6.1.0->ipywidgets) (0.1.7)\n",
      "Requirement already satisfied: jedi>=0.16 in /home/estifanos/.local/lib/python3.10/site-packages (from ipython>=6.1.0->ipywidgets) (0.19.1)\n",
      "Requirement already satisfied: stack-data in /home/estifanos/.local/lib/python3.10/site-packages (from ipython>=6.1.0->ipywidgets) (0.6.3)\n",
      "Requirement already satisfied: exceptiongroup in /home/estifanos/.local/lib/python3.10/site-packages (from ipython>=6.1.0->ipywidgets) (1.2.2)\n",
      "Requirement already satisfied: pexpect>4.3 in /home/estifanos/.local/lib/python3.10/site-packages (from ipython>=6.1.0->ipywidgets) (4.9.0)\n",
      "Requirement already satisfied: pygments>=2.4.0 in /home/estifanos/.local/lib/python3.10/site-packages (from ipython>=6.1.0->ipywidgets) (2.18.0)\n",
      "Requirement already satisfied: decorator in /home/estifanos/.local/lib/python3.10/site-packages (from ipython>=6.1.0->ipywidgets) (5.1.1)\n",
      "Requirement already satisfied: typing-extensions>=4.6 in /home/estifanos/.local/lib/python3.10/site-packages (from ipython>=6.1.0->ipywidgets) (4.12.2)\n",
      "Requirement already satisfied: six>=1.5 in /home/estifanos/.local/lib/python3.10/site-packages (from python-dateutil>=2.8.2->pandas) (1.16.0)\n",
      "Requirement already satisfied: parso<0.9.0,>=0.8.3 in /home/estifanos/.local/lib/python3.10/site-packages (from jedi>=0.16->ipython>=6.1.0->ipywidgets) (0.8.4)\n",
      "Requirement already satisfied: ptyprocess>=0.5 in /home/estifanos/.local/lib/python3.10/site-packages (from pexpect>4.3->ipython>=6.1.0->ipywidgets) (0.7.0)\n",
      "Requirement already satisfied: wcwidth in /home/estifanos/.local/lib/python3.10/site-packages (from prompt-toolkit<3.1.0,>=3.0.41->ipython>=6.1.0->ipywidgets) (0.2.13)\n",
      "Requirement already satisfied: pure-eval in /home/estifanos/.local/lib/python3.10/site-packages (from stack-data->ipython>=6.1.0->ipywidgets) (0.2.3)\n",
      "Requirement already satisfied: asttokens>=2.1.0 in /home/estifanos/.local/lib/python3.10/site-packages (from stack-data->ipython>=6.1.0->ipywidgets) (2.4.1)\n",
      "Requirement already satisfied: executing>=1.2.0 in /home/estifanos/.local/lib/python3.10/site-packages (from stack-data->ipython>=6.1.0->ipywidgets) (2.0.1)\n",
      "\n",
      "\u001b[1m[\u001b[0m\u001b[34;49mnotice\u001b[0m\u001b[1;39;49m]\u001b[0m\u001b[39;49m A new release of pip is available: \u001b[0m\u001b[31;49m23.0.1\u001b[0m\u001b[39;49m -> \u001b[0m\u001b[32;49m24.2\u001b[0m\n",
      "\u001b[1m[\u001b[0m\u001b[34;49mnotice\u001b[0m\u001b[1;39;49m]\u001b[0m\u001b[39;49m To update, run: \u001b[0m\u001b[32;49m/home/estifanos/.asdf/installs/python/3.10.13/bin/python3 -m pip install --upgrade pip\u001b[0m\n",
      "Note: you may need to restart the kernel to use updated packages.\n"
     ]
    }
   ],
   "source": [
    "pip install pandas nltk matplotlib seaborn scikit-learn wordcloud joblib ipywidgets # type: ignore"
   ]
  },
  {
   "cell_type": "markdown",
   "metadata": {},
   "source": [
    "## Load and Prepare Your Dataset\n",
    "\n",
    "Import the necessary libraries and load the dataset using pandas. We focus on columns relevant to our sentiment analysis."
   ]
  },
  {
   "cell_type": "code",
   "execution_count": 13,
   "metadata": {},
   "outputs": [
    {
     "data": {
      "text/html": [
       "<div>\n",
       "<style scoped>\n",
       "    .dataframe tbody tr th:only-of-type {\n",
       "        vertical-align: middle;\n",
       "    }\n",
       "\n",
       "    .dataframe tbody tr th {\n",
       "        vertical-align: top;\n",
       "    }\n",
       "\n",
       "    .dataframe thead th {\n",
       "        text-align: right;\n",
       "    }\n",
       "</style>\n",
       "<table border=\"1\" class=\"dataframe\">\n",
       "  <thead>\n",
       "    <tr style=\"text-align: right;\">\n",
       "      <th></th>\n",
       "      <th>4</th>\n",
       "      <th>3</th>\n",
       "      <th>Mon May 11 03:17:40 UTC 2009</th>\n",
       "      <th>kindle2</th>\n",
       "      <th>tpryan</th>\n",
       "      <th>@stellargirl I loooooooovvvvvveee my Kindle2. Not that the DX is cool, but the 2 is fantastic in its own right.</th>\n",
       "    </tr>\n",
       "  </thead>\n",
       "  <tbody>\n",
       "    <tr>\n",
       "      <th>0</th>\n",
       "      <td>4</td>\n",
       "      <td>4</td>\n",
       "      <td>Mon May 11 03:18:03 UTC 2009</td>\n",
       "      <td>kindle2</td>\n",
       "      <td>vcu451</td>\n",
       "      <td>Reading my kindle2...  Love it... Lee childs i...</td>\n",
       "    </tr>\n",
       "    <tr>\n",
       "      <th>1</th>\n",
       "      <td>4</td>\n",
       "      <td>5</td>\n",
       "      <td>Mon May 11 03:18:54 UTC 2009</td>\n",
       "      <td>kindle2</td>\n",
       "      <td>chadfu</td>\n",
       "      <td>Ok, first assesment of the #kindle2 ...it fuck...</td>\n",
       "    </tr>\n",
       "    <tr>\n",
       "      <th>2</th>\n",
       "      <td>4</td>\n",
       "      <td>6</td>\n",
       "      <td>Mon May 11 03:19:04 UTC 2009</td>\n",
       "      <td>kindle2</td>\n",
       "      <td>SIX15</td>\n",
       "      <td>@kenburbary You'll love your Kindle2. I've had...</td>\n",
       "    </tr>\n",
       "    <tr>\n",
       "      <th>3</th>\n",
       "      <td>4</td>\n",
       "      <td>7</td>\n",
       "      <td>Mon May 11 03:21:41 UTC 2009</td>\n",
       "      <td>kindle2</td>\n",
       "      <td>yamarama</td>\n",
       "      <td>@mikefish  Fair enough. But i have the Kindle2...</td>\n",
       "    </tr>\n",
       "    <tr>\n",
       "      <th>4</th>\n",
       "      <td>4</td>\n",
       "      <td>8</td>\n",
       "      <td>Mon May 11 03:22:00 UTC 2009</td>\n",
       "      <td>kindle2</td>\n",
       "      <td>GeorgeVHulme</td>\n",
       "      <td>@richardebaker no. it is too big. I'm quite ha...</td>\n",
       "    </tr>\n",
       "  </tbody>\n",
       "</table>\n",
       "</div>"
      ],
      "text/plain": [
       "   4  3  Mon May 11 03:17:40 UTC 2009  kindle2        tpryan  \\\n",
       "0  4  4  Mon May 11 03:18:03 UTC 2009  kindle2        vcu451   \n",
       "1  4  5  Mon May 11 03:18:54 UTC 2009  kindle2        chadfu   \n",
       "2  4  6  Mon May 11 03:19:04 UTC 2009  kindle2         SIX15   \n",
       "3  4  7  Mon May 11 03:21:41 UTC 2009  kindle2      yamarama   \n",
       "4  4  8  Mon May 11 03:22:00 UTC 2009  kindle2  GeorgeVHulme   \n",
       "\n",
       "  @stellargirl I loooooooovvvvvveee my Kindle2. Not that the DX is cool, but the 2 is fantastic in its own right.  \n",
       "0  Reading my kindle2...  Love it... Lee childs i...                                                               \n",
       "1  Ok, first assesment of the #kindle2 ...it fuck...                                                               \n",
       "2  @kenburbary You'll love your Kindle2. I've had...                                                               \n",
       "3  @mikefish  Fair enough. But i have the Kindle2...                                                               \n",
       "4  @richardebaker no. it is too big. I'm quite ha...                                                               "
      ]
     },
     "execution_count": 13,
     "metadata": {},
     "output_type": "execute_result"
    }
   ],
   "source": [
    "import pandas as pd\n",
    "import matplotlib.pyplot as plt\n",
    "import seaborn as sns\n",
    "import nltk\n",
    "\n",
    "# Read the data set\n",
    "data_url = \"https://raw.githubusercontent.com/keitazoumana/VADER_sentiment-Analysis/main/data/testdata.manual.2009.06.14.csv\"\n",
    "df = pd.read_csv(data_url)\n",
    "\n",
    "# Display the first few rows of the dataframe\n",
    "df.head()"
   ]
  },
  {
   "cell_type": "markdown",
   "metadata": {},
   "source": [
    "## Data Cleaning\n",
    "\n",
    "Ensure data types are appropriate, handle missing values, and remove duplicates."
   ]
  },
  {
   "cell_type": "code",
   "execution_count": 14,
   "metadata": {},
   "outputs": [],
   "source": [
    "def format_data(data):\n",
    "\n",
    "    last_col = str(data.columns[-1])\n",
    "    first_col = str(data.columns[0])\n",
    "\n",
    "    data.rename(columns = {last_col: 'tweet_text', first_col: 'polarity'}, inplace=True) \n",
    "\n",
    "    # Change 0, 2, 4 to negative, neutral and positive\n",
    "    labels = {0: 'negative', 2: 'neutral', 4: 'positive'}\n",
    "    data['polarity'] = data['polarity'].map(labels)\n",
    "\n",
    "    # Get only the two columns\n",
    "    return data[['tweet_text', 'polarity']]\n",
    "\n",
    "df = format_data(df)"
   ]
  },
  {
   "cell_type": "markdown",
   "metadata": {},
   "source": [
    "## Perform Sentiment Analysis\n",
    "\n",
    "Set up and apply the VADER sentiment analysis tool from nltk to the transcription text of the videos."
   ]
  },
  {
   "cell_type": "code",
   "execution_count": 15,
   "metadata": {},
   "outputs": [
    {
     "name": "stderr",
     "output_type": "stream",
     "text": [
      "[nltk_data] Downloading package vader_lexicon to\n",
      "[nltk_data]     /home/estifanos/nltk_data...\n",
      "[nltk_data]   Package vader_lexicon is already up-to-date!\n"
     ]
    },
    {
     "data": {
      "text/html": [
       "<div>\n",
       "<style scoped>\n",
       "    .dataframe tbody tr th:only-of-type {\n",
       "        vertical-align: middle;\n",
       "    }\n",
       "\n",
       "    .dataframe tbody tr th {\n",
       "        vertical-align: top;\n",
       "    }\n",
       "\n",
       "    .dataframe thead th {\n",
       "        text-align: right;\n",
       "    }\n",
       "</style>\n",
       "<table border=\"1\" class=\"dataframe\">\n",
       "  <thead>\n",
       "    <tr style=\"text-align: right;\">\n",
       "      <th></th>\n",
       "      <th>tweet_text</th>\n",
       "      <th>polarity</th>\n",
       "      <th>vader_prediction</th>\n",
       "    </tr>\n",
       "  </thead>\n",
       "  <tbody>\n",
       "    <tr>\n",
       "      <th>122</th>\n",
       "      <td>VIRAL MARKETING FAIL. This Acia Pills brand ou...</td>\n",
       "      <td>negative</td>\n",
       "      <td>negative</td>\n",
       "    </tr>\n",
       "    <tr>\n",
       "      <th>411</th>\n",
       "      <td>First dentist appointment [in years] on Wednes...</td>\n",
       "      <td>neutral</td>\n",
       "      <td>neutral</td>\n",
       "    </tr>\n",
       "    <tr>\n",
       "      <th>266</th>\n",
       "      <td>ok.. do nothing.. just thinking about 40D</td>\n",
       "      <td>neutral</td>\n",
       "      <td>neutral</td>\n",
       "    </tr>\n",
       "    <tr>\n",
       "      <th>73</th>\n",
       "      <td>By the way, I'm totally inspired by this freak...</td>\n",
       "      <td>positive</td>\n",
       "      <td>positive</td>\n",
       "    </tr>\n",
       "    <tr>\n",
       "      <th>253</th>\n",
       "      <td>Watching Lebron highlights. Damn that niggas good</td>\n",
       "      <td>positive</td>\n",
       "      <td>negative</td>\n",
       "    </tr>\n",
       "  </tbody>\n",
       "</table>\n",
       "</div>"
      ],
      "text/plain": [
       "                                            tweet_text  polarity  \\\n",
       "122  VIRAL MARKETING FAIL. This Acia Pills brand ou...  negative   \n",
       "411  First dentist appointment [in years] on Wednes...   neutral   \n",
       "266          ok.. do nothing.. just thinking about 40D   neutral   \n",
       "73   By the way, I'm totally inspired by this freak...  positive   \n",
       "253  Watching Lebron highlights. Damn that niggas good  positive   \n",
       "\n",
       "    vader_prediction  \n",
       "122         negative  \n",
       "411          neutral  \n",
       "266          neutral  \n",
       "73          positive  \n",
       "253         negative  "
      ]
     },
     "execution_count": 15,
     "metadata": {},
     "output_type": "execute_result"
    }
   ],
   "source": [
    "from nltk.sentiment import SentimentIntensityAnalyzer\n",
    "\n",
    "nltk.download('vader_lexicon')\n",
    "\n",
    "# Initialize VADER sentiment analyzer\n",
    "sia = SentimentIntensityAnalyzer()\n",
    "\n",
    "def format_output(output_dict):\n",
    "    \n",
    "    polarity = \"neutral\"\n",
    "\n",
    "    if(output_dict['compound']>= 0.05):\n",
    "        polarity = \"positive\"\n",
    "\n",
    "    elif(output_dict['compound']<= -0.05):\n",
    "        polarity = \"negative\"\n",
    "\n",
    "    return polarity\n",
    "\n",
    "def predict_sentiment(text):\n",
    "  \n",
    "    output_dict =  sia.polarity_scores(text)\n",
    "    return format_output(output_dict)\n",
    "\n",
    "df[\"vader_prediction\"] = df[\"tweet_text\"].apply(predict_sentiment)\n",
    "df.sample(5)"
   ]
  },
  {
   "cell_type": "markdown",
   "metadata": {},
   "source": [
    "## Visualization of Sentiment Distribution\n",
    "\n",
    "### Sentiment Distribution per Verification Status\n",
    "\n",
    "Visualize the sentiment distribution based on the binary classification model."
   ]
  },
  {
   "cell_type": "code",
   "execution_count": 16,
   "metadata": {},
   "outputs": [
    {
     "data": {
      "image/png": "[encoded data removed]",
      "text/plain": [
       "<Figure size 640x480 with 1 Axes>"
      ]
     },
     "metadata": {},
     "output_type": "display_data"
    }
   ],
   "source": [
    "sns.countplot(x='vader_prediction', data=df)\n",
    "plt.title('Sentiment Distribution (VADER Prediction)')\n",
    "plt.xlabel('Sentiment')\n",
    "plt.ylabel('Count')\n",
    "plt.show()\n"
   ]
  },
  {
   "cell_type": "markdown",
   "metadata": {},
   "source": [
    "## VADER Performance on the Dataset\n",
    "\n",
    "From the original polarity column and VADER's prediction we can generate the confusion matrix and its overall performance (precision, recall, and f1 score)."
   ]
  },
  {
   "cell_type": "code",
   "execution_count": 17,
   "metadata": {},
   "outputs": [
    {
     "name": "stdout",
     "output_type": "stream",
     "text": [
      "Accuracy: 0.716297786720322\n",
      "\n",
      "              precision    recall  f1-score   support\n",
      "\n",
      "    negative       0.84      0.64      0.72       177\n",
      "     neutral       0.67      0.70      0.68       139\n",
      "    positive       0.67      0.81      0.73       181\n",
      "\n",
      "    accuracy                           0.72       497\n",
      "   macro avg       0.73      0.71      0.71       497\n",
      "weighted avg       0.73      0.72      0.72       497\n",
      "\n"
     ]
    },
    {
     "data": {
      "image/png": "[encoded data removed]",
      "text/plain": [
       "<Figure size 640x480 with 2 Axes>"
      ]
     },
     "metadata": {},
     "output_type": "display_data"
    }
   ],
   "source": [
    "from sklearn.metrics import accuracy_score, classification_report, ConfusionMatrixDisplay\n",
    "\n",
    "accuracy = accuracy_score(df['polarity'], df['vader_prediction'])\n",
    "\n",
    "print(\"Accuracy: {}\\n\".format(accuracy))\n",
    "\n",
    "# Show the classification report\n",
    "print(classification_report(df['polarity'], df['vader_prediction']))\n",
    "\n",
    "# Plot Confusion Matrix\n",
    "ConfusionMatrixDisplay.from_predictions(df['polarity'], df['vader_prediction'])\n",
    "plt.title('Confusion Matrix - VADER vs True Sentiment')\n",
    "plt.show()"
   ]
  },
  {
   "cell_type": "code",
   "execution_count": 18,
   "metadata": {},
   "outputs": [
    {
     "name": "stdout",
     "output_type": "stream",
     "text": [
      "Logistic Regression Accuracy: 0.71\n",
      "ROC AUC Score: 0.618421052631579\n"
     ]
    },
    {
     "data": {
      "image/png": "[encoded data removed]",
      "text/plain": [
       "<Figure size 640x480 with 1 Axes>"
      ]
     },
     "metadata": {},
     "output_type": "display_data"
    },
    {
     "name": "stdout",
     "output_type": "stream",
     "text": [
      "Model and vectorizer saved successfully.\n"
     ]
    }
   ],
   "source": [
    "from sklearn.model_selection import train_test_split\n",
    "from sklearn.feature_extraction.text import TfidfVectorizer\n",
    "from sklearn.linear_model import LogisticRegression\n",
    "from sklearn.metrics import roc_auc_score, RocCurveDisplay\n",
    "\n",
    "# Vectorize text data\n",
    "tfidf = TfidfVectorizer(max_features=5000)\n",
    "X = tfidf.fit_transform(df['tweet_text'])\n",
    "y = df['polarity'].apply(lambda x: 1 if x == 'positive' else 0)\n",
    "\n",
    "# Train-test split\n",
    "X_train, X_test, y_train, y_test = train_test_split(X, y, test_size=0.2, random_state=42)\n",
    "\n",
    "# Train logistic regression model\n",
    "model = LogisticRegression()\n",
    "model.fit(X_train, y_train)\n",
    "\n",
    "# Predict on test data\n",
    "y_pred = model.predict(X_test)\n",
    "\n",
    "# Evaluate the model\n",
    "accuracy = accuracy_score(y_test, y_pred)\n",
    "roc_auc = roc_auc_score(y_test, y_pred)\n",
    "\n",
    "print(\"Logistic Regression Accuracy: {}\".format(accuracy))\n",
    "print(\"ROC AUC Score: {}\".format(roc_auc))\n",
    "\n",
    "# Plot ROC curve\n",
    "RocCurveDisplay.from_estimator(model, X_test, y_test)\n",
    "plt.title('ROC Curve - Logistic Regression')\n",
    "plt.show()\n",
    "\n",
    "\n",
    "# Save the trained logistic regression model and the vectorizer for future use.\n",
    "import joblib\n",
    "\n",
    "# Save the model and vectorizer\n",
    "joblib.dump(model, 'logistic_regression_model.pkl')\n",
    "joblib.dump(tfidf, 'tfidf_vectorizer.pkl')\n",
    "\n",
    "print(\"Model and vectorizer saved successfully.\")"
   ]
  },
  {
   "cell_type": "code",
   "execution_count": 19,
   "metadata": {},
   "outputs": [
    {
     "data": {
      "application/vnd.jupyter.widget-view+json": {
       "model_id": "303dbf199ca643568173d1226e3b18d7",
       "version_major": 2,
       "version_minor": 0
      },
      "text/plain": [
       "Textarea(value='', description='Input Text:', placeholder='Type something here...')"
      ]
     },
     "metadata": {},
     "output_type": "display_data"
    },
    {
     "data": {
      "application/vnd.jupyter.widget-view+json": {
       "model_id": "ca8ba5f644b842f5a1f86919baa7289d",
       "version_major": 2,
       "version_minor": 0
      },
      "text/plain": [
       "Button(description='Analyze with VADER', icon='check', style=ButtonStyle(), tooltip='Click to analyze sentimen…"
      ]
     },
     "metadata": {},
     "output_type": "display_data"
    },
    {
     "data": {
      "application/vnd.jupyter.widget-view+json": {
       "model_id": "a86dacc91c384816af095b2474bbcdb4",
       "version_major": 2,
       "version_minor": 0
      },
      "text/plain": [
       "Output()"
      ]
     },
     "metadata": {},
     "output_type": "display_data"
    },
    {
     "data": {
      "application/vnd.jupyter.widget-view+json": {
       "model_id": "ca76a4d2bb2d4394a71374e393b56883",
       "version_major": 2,
       "version_minor": 0
      },
      "text/plain": [
       "Button(description='Analyze with Logistic Regression', icon='check', style=ButtonStyle(), tooltip='Click to an…"
      ]
     },
     "metadata": {},
     "output_type": "display_data"
    },
    {
     "data": {
      "application/vnd.jupyter.widget-view+json": {
       "model_id": "76584218ff1946bf86ba66111338104a",
       "version_major": 2,
       "version_minor": 0
      },
      "text/plain": [
       "Output()"
      ]
     },
     "metadata": {},
     "output_type": "display_data"
    }
   ],
   "source": [
    "import ipywidgets as widgets\n",
    "import joblib\n",
    "\n",
    "# Load the trained logistic regression model and vectorizer\n",
    "model = joblib.load('logistic_regression_model.pkl')\n",
    "vectorizer = joblib.load('tfidf_vectorizer.pkl')\n",
    "\n",
    "# Function to predict sentiment using VADER\n",
    "def predict_vader_sentiment(text):\n",
    "    output_dict = sia.polarity_scores(text)\n",
    "    compound = output_dict['compound']\n",
    "    if compound >= 0.05:\n",
    "        return \"Positive\"\n",
    "    elif compound <= -0.05:\n",
    "        return \"Negative\"\n",
    "    else:\n",
    "        return \"Neutral\"\n",
    "\n",
    "# Function to predict sentiment using Logistic Regression\n",
    "def predict_logistic_sentiment(text):\n",
    "    X = vectorizer.transform([text])\n",
    "    prediction = model.predict(X)\n",
    "    return \"Positive\" if prediction == 1 else \"Negative\"\n",
    "\n",
    "# UI Elements\n",
    "text_input = widgets.Textarea(\n",
    "    value='',\n",
    "    placeholder='Type something here...',\n",
    "    description='Input Text:',\n",
    "    disabled=False\n",
    ")\n",
    "\n",
    "vader_button = widgets.Button(\n",
    "    description='Analyze with VADER',\n",
    "    disabled=False,\n",
    "    button_style='', \n",
    "    tooltip='Click to analyze sentiment using VADER',\n",
    "    icon='check'\n",
    ")\n",
    "\n",
    "logistic_button = widgets.Button(\n",
    "    description='Analyze with Logistic Regression',\n",
    "    disabled=False,\n",
    "    button_style='', \n",
    "    tooltip='Click to analyze sentiment using Logistic Regression',\n",
    "    icon='check'\n",
    ")\n",
    "\n",
    "output_vader = widgets.Output()\n",
    "output_logistic = widgets.Output()\n",
    "\n",
    "# Event handlers for buttons\n",
    "def on_vader_button_clicked(b):\n",
    "    with output_vader:\n",
    "        output_vader.clear_output()\n",
    "        if text_input.value:\n",
    "            vader_result = predict_vader_sentiment(text_input.value)\n",
    "            display(f\"VADER Sentiment: **{vader_result}**\")\n",
    "        else:\n",
    "            display(\"Please enter some text to analyze.\")\n",
    "\n",
    "def on_logistic_button_clicked(b):\n",
    "    with output_logistic:\n",
    "        output_logistic.clear_output()\n",
    "        if text_input.value:\n",
    "            logistic_result = predict_logistic_sentiment(text_input.value)\n",
    "            display(f\"Logistic Regression Sentiment: **{logistic_result}**\")\n",
    "        else:\n",
    "            display(\"Please enter some text to analyze.\")\n",
    "\n",
    "# Bind the event handlers to the buttons\n",
    "vader_button.on_click(on_vader_button_clicked)\n",
    "logistic_button.on_click(on_logistic_button_clicked)\n",
    "\n",
    "# Display the UI elements\n",
    "display(text_input, vader_button, output_vader, logistic_button, output_logistic)"
   ]
  }
 ],
 "metadata": {
  "kernelspec": {
   "display_name": "Python 3",
   "language": "python",
   "name": "python3"
  },
  "language_info": {
   "codemirror_mode": {
    "name": "ipython",
    "version": 3
   },
   "file_extension": ".py",
   "mimetype": "text/x-python",
   "name": "python",
   "nbconvert_exporter": "python",
   "pygments_lexer": "ipython3",
   "version": "3.10.13"
  }
 },
 "nbformat": 4,
 "nbformat_minor": 2
}
