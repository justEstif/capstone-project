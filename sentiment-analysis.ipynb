{
 "cells": [
  {
   "cell_type": "markdown",
   "metadata": {},
   "source": [
    "# Sentiment Analysis on Social Media Comments\n",
    "\n",
    "## Introduction\n",
    "\n",
    "This notebook details the steps taken to perform sentiment analysis on comments from social media platforms using Python. The goal is to identify trends and patterns in sentiment across different content and user interactions.\n",
    "\n",
    "\n",
    "In addition to the original sentiment analysis using VADER, we will explore a binary classification approach using logistic regression to classify sentiment as positive or negative.\n",
    "\n",
    "## Setup Environment\n",
    "\n",
    "Ensure Python and the necessary libraries are installed. We will be using the following libraries:\n",
    "\n",
    "- `pandas` for data manipulation\n",
    "- `matplotlib` and `seaborn` for visualization\n",
    "- `VADER` from `nltk` for sentiment analysis\n",
    "- `scikit-learn` for building the predictive model\n",
    "- `wordcloud` for generating word clouds\n",
    "- `joblib` for model serialization\n",
    "- `ipywidgets` for creating interactive widgets"
   ]
  },
  {
   "cell_type": "code",
   "execution_count": null,
   "metadata": {},
   "outputs": [],
   "source": [
    "pip install pandas nltk matplotlib seaborn scikit-learn wordcloud joblib ipywidgets # type: ignore"
   ]
  },
  {
   "cell_type": "markdown",
   "metadata": {},
   "source": [
    "## Load and Prepare Your Dataset\n",
    "\n",
    "Import the necessary libraries and load the dataset using pandas. We focus on columns relevant to our sentiment analysis."
   ]
  },
  {
   "cell_type": "code",
   "execution_count": null,
   "metadata": {},
   "outputs": [],
   "source": [
    "import pandas as pd\n",
    "import matplotlib.pyplot as plt\n",
    "import seaborn as sns\n",
    "import nltk\n",
    "\n",
    "# Read the data set\n",
    "data_url = \"https://raw.githubusercontent.com/keitazoumana/VADER_sentiment-Analysis/main/data/testdata.manual.2009.06.14.csv\"\n",
    "df = pd.read_csv(data_url)\n",
    "\n",
    "# Display the first few rows of the dataframe\n",
    "df.head()"
   ]
  },
  {
   "cell_type": "markdown",
   "metadata": {},
   "source": [
    "## Data Cleaning\n",
    "\n",
    "Ensure data types are appropriate, handle missing values, and remove duplicates."
   ]
  },
  {
   "cell_type": "code",
   "execution_count": null,
   "metadata": {},
   "outputs": [],
   "source": [
    "def format_data(data):\n",
    "\n",
    "    last_col = str(data.columns[-1])\n",
    "    first_col = str(data.columns[0])\n",
    "\n",
    "    data.rename(columns = {last_col: 'tweet_text', first_col: 'polarity'}, inplace=True) \n",
    "\n",
    "    # Change 0, 2, 4 to negative, neutral and positive\n",
    "    labels = {0: 'negative', 2: 'neutral', 4: 'positive'}\n",
    "    data['polarity'] = data['polarity'].map(labels)\n",
    "\n",
    "    # Get only the two columns\n",
    "    return data[['tweet_text', 'polarity']]\n",
    "\n",
    "df = format_data(df)"
   ]
  },
  {
   "cell_type": "markdown",
   "metadata": {},
   "source": [
    "## Perform Sentiment Analysis\n",
    "\n",
    "Set up and apply the VADER sentiment analysis tool from nltk to the transcription text of the videos."
   ]
  },
  {
   "cell_type": "code",
   "execution_count": null,
   "metadata": {},
   "outputs": [],
   "source": [
    "from nltk.sentiment import SentimentIntensityAnalyzer\n",
    "\n",
    "nltk.download('vader_lexicon')\n",
    "\n",
    "# Initialize VADER sentiment analyzer\n",
    "sia = SentimentIntensityAnalyzer()\n",
    "\n",
    "def format_output(output_dict):\n",
    "    \n",
    "    polarity = \"neutral\"\n",
    "\n",
    "    if(output_dict['compound']>= 0.05):\n",
    "        polarity = \"positive\"\n",
    "\n",
    "    elif(output_dict['compound']<= -0.05):\n",
    "        polarity = \"negative\"\n",
    "\n",
    "    return polarity\n",
    "\n",
    "def predict_sentiment(text):\n",
    "  \n",
    "    output_dict =  sia.polarity_scores(text)\n",
    "    return format_output(output_dict)\n",
    "\n",
    "df[\"vader_prediction\"] = df[\"tweet_text\"].apply(predict_sentiment)\n",
    "df.sample(5)"
   ]
  },
  {
   "cell_type": "markdown",
   "metadata": {},
   "source": [
    "## Visualization of Sentiment Distribution\n",
    "\n",
    "### Sentiment Distribution per Verification Status\n",
    "\n",
    "Visualize the sentiment distribution based on the binary classification model."
   ]
  },
  {
   "cell_type": "code",
   "execution_count": null,
   "metadata": {},
   "outputs": [],
   "source": [
    "sns.countplot(x='vader_prediction', data=df)\n",
    "plt.title('Sentiment Distribution (VADER Prediction)')\n",
    "plt.xlabel('Sentiment')\n",
    "plt.ylabel('Count')\n",
    "plt.show()\n"
   ]
  },
  {
   "cell_type": "markdown",
   "metadata": {},
   "source": [
    "## VADER Performance on the Dataset\n",
    "\n",
    "From the original polarity column and VADER's prediction we can generate the confusion matrix and its overall performance (precision, recall, and f1 score)."
   ]
  },
  {
   "cell_type": "code",
   "execution_count": null,
   "metadata": {},
   "outputs": [],
   "source": [
    "from sklearn.metrics import accuracy_score, classification_report, ConfusionMatrixDisplay\n",
    "\n",
    "accuracy = accuracy_score(df['polarity'], df['vader_prediction'])\n",
    "\n",
    "print(\"Accuracy: {}\\n\".format(accuracy))\n",
    "\n",
    "# Show the classification report\n",
    "print(classification_report(df['polarity'], df['vader_prediction']))\n",
    "\n",
    "# Plot Confusion Matrix\n",
    "ConfusionMatrixDisplay.from_predictions(df['polarity'], df['vader_prediction'])\n",
    "plt.title('Confusion Matrix - VADER vs True Sentiment')\n",
    "plt.show()"
   ]
  },
  {
   "cell_type": "markdown",
   "metadata": {},
   "source": [
    "## Binary Classification Model using Logistic Regression\n",
    "\n",
    "Now, we'll build a binary classification model using logistic regression to predict whether a comment is positive or negative.\n"
   ]
  },
  {
   "cell_type": "code",
   "execution_count": null,
   "metadata": {},
   "outputs": [],
   "source": [
    "from sklearn.model_selection import train_test_split\n",
    "from sklearn.feature_extraction.text import TfidfVectorizer\n",
    "from sklearn.linear_model import LogisticRegression\n",
    "from sklearn.metrics import roc_auc_score, RocCurveDisplay\n",
    "\n",
    "# Vectorize text data\n",
    "tfidf = TfidfVectorizer(max_features=5000)\n",
    "X = tfidf.fit_transform(df['tweet_text'])\n",
    "y = df['polarity'].apply(lambda x: 1 if x == 'positive' else 0)\n",
    "\n",
    "# Train-test split\n",
    "X_train, X_test, y_train, y_test = train_test_split(X, y, test_size=0.2, random_state=42)\n",
    "\n",
    "# Train logistic regression model\n",
    "model = LogisticRegression()\n",
    "model.fit(X_train, y_train)\n",
    "\n",
    "# Predict on test data\n",
    "y_pred = model.predict(X_test)\n",
    "\n",
    "# Evaluate the model\n",
    "accuracy = accuracy_score(y_test, y_pred)\n",
    "roc_auc = roc_auc_score(y_test, y_pred)\n",
    "\n",
    "print(\"Logistic Regression Accuracy: {}\".format(accuracy))\n",
    "print(\"ROC AUC Score: {}\".format(roc_auc))\n",
    "\n",
    "# Plot ROC curve\n",
    "RocCurveDisplay.from_estimator(model, X_test, y_test)\n",
    "plt.title('ROC Curve - Logistic Regression')\n",
    "plt.show()"
   ]
  },
  {
   "cell_type": "markdown",
   "metadata": {},
   "source": [
    "## Model Deployment and Future Use\n",
    "\n",
    "Save the trained logistic regression model and the vectorizer for future use."
   ]
  },
  {
   "cell_type": "code",
   "execution_count": null,
   "metadata": {},
   "outputs": [],
   "source": [
    "# Save the trained logistic regression model and the vectorizer for future use.\n",
    "import joblib\n",
    "\n",
    "# Save the model and vectorizer\n",
    "joblib.dump(model, 'logistic_regression_model.pkl')\n",
    "joblib.dump(tfidf, 'tfidf_vectorizer.pkl')\n",
    "\n",
    "print(\"Model and vectorizer saved successfully.\")"
   ]
  },
  {
   "cell_type": "markdown",
   "metadata": {},
   "source": [
    "## UI for interacting with model"
   ]
  },
  {
   "cell_type": "code",
   "execution_count": null,
   "metadata": {},
   "outputs": [],
   "source": [
    "import ipywidgets as widgets\n",
    "import joblib\n",
    "\n",
    "# Load the trained logistic regression model and vectorizer\n",
    "model = joblib.load('logistic_regression_model.pkl')\n",
    "vectorizer = joblib.load('tfidf_vectorizer.pkl')\n",
    "\n",
    "# Function to predict sentiment using VADER\n",
    "def predict_vader_sentiment(text):\n",
    "    output_dict = sia.polarity_scores(text)\n",
    "    compound = output_dict['compound']\n",
    "    if compound >= 0.05:\n",
    "        return \"Positive\"\n",
    "    elif compound <= -0.05:\n",
    "        return \"Negative\"\n",
    "    else:\n",
    "        return \"Neutral\"\n",
    "\n",
    "# Function to predict sentiment using Logistic Regression\n",
    "def predict_logistic_sentiment(text):\n",
    "    X = vectorizer.transform([text])\n",
    "    prediction = model.predict(X)\n",
    "    return \"Positive\" if prediction == 1 else \"Negative\"\n",
    "\n",
    "# UI Elements\n",
    "text_input = widgets.Textarea(\n",
    "    value='',\n",
    "    placeholder='Type something here...',\n",
    "    description='Input Text:',\n",
    "    disabled=False\n",
    ")\n",
    "\n",
    "vader_button = widgets.Button(\n",
    "    description='Analyze with VADER',\n",
    "    disabled=False,\n",
    "    button_style='', \n",
    "    tooltip='Click to analyze sentiment using VADER',\n",
    "    icon='check'\n",
    ")\n",
    "\n",
    "logistic_button = widgets.Button(\n",
    "    description='Analyze with Logistic Regression',\n",
    "    disabled=False,\n",
    "    button_style='', \n",
    "    tooltip='Click to analyze sentiment using Logistic Regression',\n",
    "    icon='check'\n",
    ")\n",
    "\n",
    "output_vader = widgets.Output()\n",
    "output_logistic = widgets.Output()\n",
    "\n",
    "# Event handlers for buttons\n",
    "def on_vader_button_clicked(b):\n",
    "    with output_vader:\n",
    "        output_vader.clear_output()\n",
    "        if text_input.value:\n",
    "            vader_result = predict_vader_sentiment(text_input.value)\n",
    "            display(f\"VADER Sentiment: **{vader_result}**\")\n",
    "        else:\n",
    "            display(\"Please enter some text to analyze.\")\n",
    "\n",
    "def on_logistic_button_clicked(b):\n",
    "    with output_logistic:\n",
    "        output_logistic.clear_output()\n",
    "        if text_input.value:\n",
    "            logistic_result = predict_logistic_sentiment(text_input.value)\n",
    "            display(f\"Logistic Regression Sentiment: **{logistic_result}**\")\n",
    "        else:\n",
    "            display(\"Please enter some text to analyze.\")\n",
    "\n",
    "# Bind the event handlers to the buttons\n",
    "vader_button.on_click(on_vader_button_clicked)\n",
    "logistic_button.on_click(on_logistic_button_clicked)\n",
    "\n",
    "# Display the UI elements\n",
    "display(text_input, vader_button, output_vader, logistic_button, output_logistic)"
   ]
  }
 ],
 "metadata": {
  "kernelspec": {
   "display_name": "Python 3",
   "language": "python",
   "name": "python3"
  },
  "language_info": {
   "codemirror_mode": {
    "name": "ipython",
    "version": 3
   },
   "file_extension": ".py",
   "mimetype": "text/x-python",
   "name": "python",
   "nbconvert_exporter": "python",
   "pygments_lexer": "ipython3",
   "version": "3.10.13"
  }
 },
 "nbformat": 4,
 "nbformat_minor": 2
}
